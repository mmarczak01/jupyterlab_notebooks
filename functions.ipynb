{
 "cells": [
  {
   "cell_type": "markdown",
   "id": "3de749c5-d0c8-4eec-b1d5-eb28e9babcca",
   "metadata": {},
   "source": [
    "# Do zaimplementownia funkcji używamy słowa def"
   ]
  },
  {
   "cell_type": "code",
   "execution_count": 8,
   "id": "37df782b-97d9-4ea2-9242-fa9a9885c477",
   "metadata": {},
   "outputs": [],
   "source": [
    "def sum(a,b):\n",
    "    return a + b"
   ]
  },
  {
   "cell_type": "markdown",
   "id": "98897c31-f633-4efd-bd33-a7a80bff6392",
   "metadata": {},
   "source": [
    "# Wywołanie funkcji sum(a,b)"
   ]
  },
  {
   "cell_type": "markdown",
   "id": "b47f382a-6044-4ea1-ae25-1c18a8cc8dfa",
   "metadata": {},
   "source": [
    "# Przykład sum(1,4)"
   ]
  }
 ],
 "metadata": {
  "kernelspec": {
   "display_name": "Python 3 (ipykernel)",
   "language": "python",
   "name": "python3"
  },
  "language_info": {
   "codemirror_mode": {
    "name": "ipython",
    "version": 3
   },
   "file_extension": ".py",
   "mimetype": "text/x-python",
   "name": "python",
   "nbconvert_exporter": "python",
   "pygments_lexer": "ipython3",
   "version": "3.12.2"
  }
 },
 "nbformat": 4,
 "nbformat_minor": 5
}
